{
 "cells": [
  {
   "cell_type": "code",
   "execution_count": null,
   "id": "fa761f08",
   "metadata": {},
   "outputs": [],
   "source": [
    "import requests, json\n",
    "\n",
    "# Example: search for Impressionism, get first ID\n",
    "search_url = \"https://collectionapi.metmuseum.org/public/collection/v1/search\"\n",
    "obj_url = \"https://collectionapi.metmuseum.org/public/collection/v1/objects/{}\"\n",
    "\n",
    "ids = requests.get(search_url, params={\"q\":\"Impressionism\", \"hasImages\":\"true\"}).json()[\"objectIDs\"]\n",
    "sample_id = ids[0]\n",
    "obj = requests.get(obj_url.format(sample_id)).json()\n",
    "\n",
    "# Pretty-print all keys\n",
    "print(json.dumps(obj, indent=2))\n"
   ]
  }
 ],
 "metadata": {
  "language_info": {
   "name": "python"
  }
 },
 "nbformat": 4,
 "nbformat_minor": 5
}
